{
 "cells": [
  {
   "cell_type": "code",
   "execution_count": null,
   "id": "56d13515",
   "metadata": {},
   "outputs": [],
   "source": [
    "from datasets import load_dataset\n",
    "\n",
    "dataset = load_dataset(\"HelpingAI/Intermediate-Thinking-130k\", split='train')"
   ]
  },
  {
   "cell_type": "code",
   "execution_count": null,
   "id": "0e7da7c3",
   "metadata": {},
   "outputs": [],
   "source": [
    "import re\n",
    "def format_dataset(example):\n",
    "    instruction = example['instruction']\n",
    "    output = example['output']\n",
    "\n",
    "    # Remove ser blocks\n",
    "    output = re.sub(r'<ser>.*?</ser>', '', output, flags=re.DOTALL)\n",
    "    \n",
    "    # Use a regular expression to match the entire block starting with <think> and ending with the explanation after </think>\n",
    "    think_blocks = re.findall(r'(<think>.*?</think>.*?)(?=\\n<think>|$)', output, re.DOTALL)\n",
    "    \n",
    "    # Create a list of messages\n",
    "    converted_sample = [\n",
    "            {\"role\": \"user\", \"content\": instruction},\n",
    "        ]\n",
    "    \n",
    "    for block in think_blocks:\n",
    "        converted_sample.append({\"role\": \"assistant\", \"content\": block})\n",
    "\n",
    "    return {'messages': converted_sample}"
   ]
  },
  {
   "cell_type": "code",
   "execution_count": null,
   "id": "4dc2365a",
   "metadata": {},
   "outputs": [],
   "source": [
    "dataset = dataset.map(format_dataset, num_proc=8)\n",
    "dataset = dataset.remove_columns(['instruction','input','output','conversation'])"
   ]
  },
  {
   "cell_type": "code",
   "execution_count": null,
   "id": "2f4dfaeb",
   "metadata": {},
   "outputs": [],
   "source": [
    "pattern = r\"<ser>.*?</ser>\"\n",
    "\n",
    "for messages in dataset['messages']:\n",
    "    for sample in messages:\n",
    "        # Check if the pattern exists in the sample text\n",
    "        if re.search(pattern, sample['content'], re.DOTALL):  # re.DOTALL allows '.' to match newlines\n",
    "            print(\"A <ser> block exists in the text.\")"
   ]
  },
  {
   "cell_type": "code",
   "execution_count": null,
   "id": "7e2715d2",
   "metadata": {},
   "outputs": [],
   "source": []
  }
 ],
 "metadata": {
  "kernelspec": {
   "display_name": "llm_env",
   "language": "python",
   "name": "python3"
  },
  "language_info": {
   "codemirror_mode": {
    "name": "ipython",
    "version": 3
   },
   "file_extension": ".py",
   "mimetype": "text/x-python",
   "name": "python",
   "nbconvert_exporter": "python",
   "pygments_lexer": "ipython3",
   "version": "3.11.13"
  }
 },
 "nbformat": 4,
 "nbformat_minor": 5
}
